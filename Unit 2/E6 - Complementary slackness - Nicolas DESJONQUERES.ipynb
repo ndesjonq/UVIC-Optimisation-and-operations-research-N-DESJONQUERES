{
 "cells": [
  {
   "cell_type": "markdown",
   "id": "fcf79972",
   "metadata": {},
   "source": [
    "# E6 - Complementary slackness - Nicolas DESJONQUERES"
   ]
  },
  {
   "cell_type": "markdown",
   "id": "572e39a4",
   "metadata": {},
   "source": [
    "### 1. Primal LP Problem"
   ]
  },
  {
   "cell_type": "markdown",
   "id": "cd4bb631",
   "metadata": {},
   "source": [
    "$$\n",
    "maximize \\; x_1 + 4 x_2 + 2 x_3 \\\\\n",
    "subject \\: to : \\\\\n",
    "5 x_1 + 2 x_2 + 2 x_3 \\leq 145 \\\\\n",
    "4 x_1 + 8 x_2 - 8 x_3 \\leq 260 \\\\\n",
    "x_1 + x_2 + 4 x_3 \\leq 190 \\\\\n",
    "x \\geq 0 \\\\\n",
    "$$"
   ]
  },
  {
   "cell_type": "markdown",
   "id": "085f7e24",
   "metadata": {},
   "source": [
    "### 2. Dual LP Problem"
   ]
  },
  {
   "cell_type": "markdown",
   "id": "dd2e27df",
   "metadata": {},
   "source": [
    "$$\n",
    "minimize \\; 145 y_1 + 260 y_2 + 190 y_3 \\\\\n",
    "subject \\: to : \\\\\n",
    "5 y_1 + 4 y_2 + y_3 \\geq 1 \\\\\n",
    "2 y_1 + 8 y_2 + y_3 \\geq 4 \\\\\n",
    "2 y_1 - 8 y_2 + 4 y_3 \\geq 2 \\\\\n",
    "y \\geq 0 \\\\\n",
    "$$"
   ]
  },
  {
   "cell_type": "markdown",
   "id": "b09170b9",
   "metadata": {},
   "source": [
    "### 3. Verify that Q = (0, 52.5, 20) is a feasible solution for the primal problem"
   ]
  },
  {
   "cell_type": "markdown",
   "id": "c985e78f",
   "metadata": {},
   "source": [
    "To verify whether $Q = (0,52.5,20)$ is a feasible solution for the primal problem, we subtitute those values into the primal constraints : \n",
    "\n",
    "$$\n",
    "5(0) + 2(52.5) + 2(20) \\leq 145 \\\\\n",
    "4(0) + 8(52.5) - 8(20) \\leq 260 \\\\ \n",
    "1(0) + 1(52.5) + 4(20) \\leq 190 \\\\\n",
    "$$\n",
    "\n",
    "Solving these inequalities, we find that they are all satisfied, hence $Q = (0,52.5,20)$ is a feasible solution."
   ]
  },
  {
   "cell_type": "markdown",
   "id": "f4c717f6",
   "metadata": {},
   "source": [
    "### 4. Solve using Complementary Slackness Theroem"
   ]
  },
  {
   "cell_type": "markdown",
   "id": "9c1ed76a",
   "metadata": {},
   "source": [
    "Because the solutions for $x_2$ and $x_3$ are non-zero, the second and third constraints of the dual have no slack:\n",
    "\n",
    "$$\n",
    "2 y_1 + 8 y_2 + y_3 = 4 \\\\\n",
    "2 y_1 - 8 y_2 + 4 y_3 = 2 \\\\\n",
    "$$\n",
    "\n",
    "By checking the primal, we can see that the optimal solution shows some slack in the third constraint ($x_1 + x_2 + 4 x_3 = 132.5 \\leq 190$), and so by complementary slackness, $y_3 = 0$. With this information, we have the following system :\n",
    "\n",
    "$$\n",
    "2 y_1 + 8 y_2 = 4 \\\\\n",
    "2 y_1 - 8 y_2 = 2 \\\\\n",
    "$$\n",
    "\n",
    "The solution to this equation is : \n",
    "\n",
    "$$\n",
    "y_1 =  \\frac{3}{2} \\\\\n",
    "y_2 =  \\frac{1}{8} \\\\\n",
    "$$\n",
    "\n",
    "So, we have the optimal solution to the dual problem : $y_1 = \\frac{3}{2}, \\: y_2 =  \\frac{1}{8}, \\: y_3 = 0$.\n",
    "We can now verify that this solution is feasible by plugging it in the dual lp problem : \n",
    "\n",
    "$$\n",
    "5 \\times \\frac{3}{2} + 4 \\times \\frac{1}{8} + 1 \\times 0 = 8, and \\; 8 \\geq 1 \\\\\n",
    "2 \\times \\frac{3}{2} + 8 \\times \\frac{1}{8} + 1 \\times 0 = 4, and \\; 4 \\geq 4 \\\\\n",
    "2 \\times \\frac{3}{2} - 8 \\times \\frac{1}{8} + 4 \\times 0 = 2, and \\; 2 \\geq 2 \\\\\n",
    "y_1 \\geq 0, \\: y_2 \\geq 0, \\: y_3 \\geq 0, \\:\n",
    "$$\n",
    "\n",
    "We can conclude that $y_1 = \\frac{3}{2}, \\: y_2 =  \\frac{1}{8}, \\: y_3 = 0$ is a candidate solution for the dual."
   ]
  }
 ],
 "metadata": {
  "kernelspec": {
   "display_name": "Python 3 (ipykernel)",
   "language": "python",
   "name": "python3"
  },
  "language_info": {
   "codemirror_mode": {
    "name": "ipython",
    "version": 3
   },
   "file_extension": ".py",
   "mimetype": "text/x-python",
   "name": "python",
   "nbconvert_exporter": "python",
   "pygments_lexer": "ipython3",
   "version": "3.11.5"
  }
 },
 "nbformat": 4,
 "nbformat_minor": 5
}
