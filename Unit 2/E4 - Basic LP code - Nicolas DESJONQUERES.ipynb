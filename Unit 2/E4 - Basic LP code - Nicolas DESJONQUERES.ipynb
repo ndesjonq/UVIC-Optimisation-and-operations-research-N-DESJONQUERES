{
 "cells": [
  {
   "cell_type": "markdown",
   "id": "9e191fb9",
   "metadata": {},
   "source": [
    "# E4 - Basic LP code - Nicolas DESJONQUERES"
   ]
  },
  {
   "cell_type": "code",
   "execution_count": 11,
   "id": "ddfdc81b",
   "metadata": {},
   "outputs": [],
   "source": [
    "from ortools.linear_solver import pywraplp\n",
    "\n",
    "def LPP_solver(constraints, function, bounds, minimize):\n",
    "    solver = pywraplp.Solver.CreateSolver(\"GLOP\")\n",
    "    \n",
    "    if not solver:\n",
    "        return\n",
    "    \n",
    "    variables = []\n",
    "    \n",
    "    for b in bounds:\n",
    "        lower = b[0] if b[0] != '-inf' else -solver.infinity()\n",
    "        upper = b[1] if b[1] != 'inf' else solver.infinity()\n",
    "        \n",
    "        var_name = b[2]\n",
    "        \n",
    "        variables.append(solver.NumVar(lower, upper, var_name))\n",
    "        \n",
    "    \n",
    "    for c in constraints:\n",
    "        eq_left = [c[0][i] * variables[i] for i in range(len(c[0]))]\n",
    "        eq_right = c[2]\n",
    "        \n",
    "        if c[1] == '<=':\n",
    "            solver.Add(sum(eq_left) <= eq_right)\n",
    "        elif c[1] == '==':\n",
    "            solver.Add(sum(eq_left) == eq_right)\n",
    "        elif c[1] == '>=':\n",
    "            solver.Add(sum(eq_left) >= eq_right)\n",
    "    \n",
    "    if minimize:\n",
    "        solver.Minimize(sum([function[i] * variables[i] for i in range(len(function))]))\n",
    "    else:\n",
    "        solver.Maximize(sum([function[i] * variables[i] for i in range(len(function))]))\n",
    "\n",
    "    status = solver.Solve()\n",
    "\n",
    "    if status == pywraplp.Solver.OPTIMAL:\n",
    "        print(\"Solution:\")\n",
    "        print(f\"\\tObjective value = {solver.Objective().Value():0.1f}\")\n",
    "        for v in variables:\n",
    "            print(f\"\\t{v} = {v.solution_value():0.1f}\")\n",
    "    else:\n",
    "        print(\"The problem does not have an optimal solution.\")"
   ]
  },
  {
   "cell_type": "markdown",
   "id": "a1a60fdd",
   "metadata": {},
   "source": [
    "## • Example 1 (p9)"
   ]
  },
  {
   "cell_type": "markdown",
   "id": "89e69611",
   "metadata": {},
   "source": [
    "<br/> Maximize **z = 22xA + 28xB** subject to:\n",
    "<br/>&ensp; 8xA + 10xB ≤ 3400\n",
    "<br/>&ensp; 2xA + 3xB ≤ 960\n",
    "<br/>&ensp; xA ≥ 0\n",
    "<br/>&ensp; xB ≥ 0"
   ]
  },
  {
   "cell_type": "code",
   "execution_count": 12,
   "id": "32f1dc8c",
   "metadata": {},
   "outputs": [
    {
     "name": "stdout",
     "output_type": "stream",
     "text": [
      "Solution:\n",
      "\tObjective value = 9460.0\n",
      "\txA = 150.0\n",
      "\txB = 220.0\n"
     ]
    }
   ],
   "source": [
    "bounds = [\n",
    "    [0, 'inf', 'xA'],\n",
    "    [0, 'inf', 'xB']\n",
    "]\n",
    "\n",
    "constraints = [\n",
    "    [[8, 10], '<=', 3400],\n",
    "    [[2, 3], '<=', 960]\n",
    "]\n",
    "\n",
    "function = [22, 28]\n",
    "\n",
    "minimize = False\n",
    "\n",
    "LPP_solver(constraints, function, bounds, minimize)"
   ]
  },
  {
   "cell_type": "markdown",
   "id": "a30713cf",
   "metadata": {},
   "source": [
    "## • Example 2 (p17)"
   ]
  },
  {
   "cell_type": "markdown",
   "id": "65300f19",
   "metadata": {},
   "source": [
    "<br/> Maximize **z = 3x1 + x2** subject to:\n",
    "<br/>&ensp; x2 ≤ 5\n",
    "<br/>&ensp; x1 + x2 ≤ 10\n",
    "<br/>&ensp; −x1 + x2 ≥ −2\n",
    "<br/>&ensp; x1, x2 ≥ 0"
   ]
  },
  {
   "cell_type": "code",
   "execution_count": 14,
   "id": "5102e7da",
   "metadata": {
    "scrolled": true
   },
   "outputs": [
    {
     "name": "stdout",
     "output_type": "stream",
     "text": [
      "Solution:\n",
      "\tObjective value = 20.0\n",
      "\tx1 = 5.0\n",
      "\tx2 = 5.0\n"
     ]
    }
   ],
   "source": [
    "bounds = [\n",
    "    [0, 'inf', 'x1'],\n",
    "    [0, 'inf', 'x2']\n",
    "]\n",
    "\n",
    "constraints = [\n",
    "    [[1, 0], '<=', 5],\n",
    "    [[1, 1], '<=', 10],\n",
    "    [[-1, 2], '>=', -2]\n",
    "]\n",
    "\n",
    "function = [3, 1]\n",
    "\n",
    "minimize = False\n",
    "\n",
    "LPP_solver(constraints, function, bounds, minimize)"
   ]
  },
  {
   "cell_type": "markdown",
   "id": "22ec68c6",
   "metadata": {},
   "source": [
    "## • Example 3 (p19)"
   ]
  },
  {
   "cell_type": "markdown",
   "id": "6b63642f",
   "metadata": {},
   "source": [
    "<br/> Minimize **z = x1 + x2** subject to:\n",
    "<br/>&ensp; 3x1 + x2 ≥ 6\n",
    "<br/>&ensp; x2 ≥ 3\n",
    "<br/>&ensp; x1 ≤ 4\n",
    "<br/>&ensp; x1, x2 ≥ 0"
   ]
  },
  {
   "cell_type": "code",
   "execution_count": 15,
   "id": "5c5a13f0",
   "metadata": {
    "scrolled": true
   },
   "outputs": [
    {
     "name": "stdout",
     "output_type": "stream",
     "text": [
      "Solution:\n",
      "\tObjective value = 4.0\n",
      "\tx1 = 1.0\n",
      "\tx2 = 3.0\n"
     ]
    }
   ],
   "source": [
    "bounds = [\n",
    "    [0, 'inf', 'x1'],\n",
    "    [0, 'inf', 'x2']\n",
    "]\n",
    "\n",
    "constraints = [\n",
    "    [[3, 1], '>=', 6],\n",
    "    [[0, 1], '>=', 3],\n",
    "    [[1, 0], '<=', 4]\n",
    "]\n",
    "\n",
    "function = [1, 1]\n",
    "\n",
    "minimize = True\n",
    "\n",
    "LPP_solver(constraints, function, bounds, minimize)"
   ]
  },
  {
   "cell_type": "markdown",
   "id": "3792a1c7",
   "metadata": {},
   "source": [
    "## • Example 4 (p25)"
   ]
  },
  {
   "cell_type": "markdown",
   "id": "66089aea",
   "metadata": {},
   "source": [
    "<br/> Maximize **z = 3x1 + x2** subject to:\n",
    "<br/>&ensp; −x1 + x2 ≥ 4\n",
    "<br/>&ensp; −x1 + 2x2 ≤ −4\n",
    "<br/>&ensp; x1, x2 ≥ 0"
   ]
  },
  {
   "cell_type": "code",
   "execution_count": 17,
   "id": "7af2ac8b",
   "metadata": {},
   "outputs": [
    {
     "name": "stdout",
     "output_type": "stream",
     "text": [
      "The problem does not have an optimal solution.\n"
     ]
    }
   ],
   "source": [
    "bounds = [\n",
    "    [0, 'inf', 'x1'],\n",
    "    [0, 'inf', 'x2']\n",
    "]\n",
    "\n",
    "constraints = [\n",
    "    [[-1, 1], '>=', 4],\n",
    "    [[-1, 2], '<=', -4]\n",
    "]\n",
    "\n",
    "function = [3, 1]\n",
    "\n",
    "minimize = False\n",
    "\n",
    "LPP_solver(constraints, function, bounds, minimize)"
   ]
  }
 ],
 "metadata": {
  "kernelspec": {
   "display_name": "Python 3 (ipykernel)",
   "language": "python",
   "name": "python3"
  },
  "language_info": {
   "codemirror_mode": {
    "name": "ipython",
    "version": 3
   },
   "file_extension": ".py",
   "mimetype": "text/x-python",
   "name": "python",
   "nbconvert_exporter": "python",
   "pygments_lexer": "ipython3",
   "version": "3.11.5"
  }
 },
 "nbformat": 4,
 "nbformat_minor": 5
}
